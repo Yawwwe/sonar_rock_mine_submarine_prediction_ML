{
 "cells": [
  {
   "cell_type": "code",
   "outputs": [],
   "source": [
    "import numpy as np\n",
    "import pandas as pd\n",
    "from sklearn.model_selection import train_test_split\n",
    "from sklearn.metrics import accuracy_score"
   ],
   "metadata": {
    "collapsed": false,
    "ExecuteTime": {
     "end_time": "2024-02-23T16:59:04.059679600Z",
     "start_time": "2024-02-23T16:59:03.598089600Z"
    }
   },
   "id": "f8668a2adcb9cc44",
   "execution_count": 7
  },
  {
   "cell_type": "markdown",
   "source": [
    "Data collection and data processing from the datalake"
   ],
   "metadata": {
    "collapsed": false
   },
   "id": "830f9bb7c4a858dc"
  },
  {
   "cell_type": "code",
   "outputs": [],
   "source": [
    "#Cargamos el dataset en un dataframe de pandas\n",
    "sonar_data = pd.read_csv('datalake/sonar_data.csv', header=None)"
   ],
   "metadata": {
    "collapsed": false,
    "ExecuteTime": {
     "end_time": "2024-02-23T17:04:46.033133200Z",
     "start_time": "2024-02-23T17:04:45.997136Z"
    }
   },
   "id": "938a3d0e47b9ebf7",
   "execution_count": 15
  },
  {
   "cell_type": "markdown",
   "source": [
    "Mostramos la estructura de nuestros datos."
   ],
   "metadata": {
    "collapsed": false
   },
   "id": "287a59372159681"
  },
  {
   "cell_type": "code",
   "outputs": [],
   "source": [
    "sonar_data.head()"
   ],
   "metadata": {
    "collapsed": false
   },
   "id": "53a617e7a3b0d5da",
   "execution_count": null
  },
  {
   "cell_type": "code",
   "outputs": [
    {
     "data": {
      "text/plain": "(208, 61)"
     },
     "execution_count": 17,
     "metadata": {},
     "output_type": "execute_result"
    }
   ],
   "source": [
    "#Nos muestra el numero total de filas (208) y el numero total de columnas (61)\n",
    "sonar_data.shape"
   ],
   "metadata": {
    "collapsed": false,
    "ExecuteTime": {
     "end_time": "2024-02-23T17:06:49.891260300Z",
     "start_time": "2024-02-23T17:06:49.802262600Z"
    }
   },
   "id": "ce13a4f711b72557",
   "execution_count": 17
  },
  {
   "cell_type": "code",
   "outputs": [
    {
     "data": {
      "text/plain": "               0           1           2           3           4           5   \\\ncount  208.000000  208.000000  208.000000  208.000000  208.000000  208.000000   \nmean     0.029164    0.038437    0.043832    0.053892    0.075202    0.104570   \nstd      0.022991    0.032960    0.038428    0.046528    0.055552    0.059105   \nmin      0.001500    0.000600    0.001500    0.005800    0.006700    0.010200   \n25%      0.013350    0.016450    0.018950    0.024375    0.038050    0.067025   \n50%      0.022800    0.030800    0.034300    0.044050    0.062500    0.092150   \n75%      0.035550    0.047950    0.057950    0.064500    0.100275    0.134125   \nmax      0.137100    0.233900    0.305900    0.426400    0.401000    0.382300   \n\n               6           7           8           9   ...          50  \\\ncount  208.000000  208.000000  208.000000  208.000000  ...  208.000000   \nmean     0.121747    0.134799    0.178003    0.208259  ...    0.016069   \nstd      0.061788    0.085152    0.118387    0.134416  ...    0.012008   \nmin      0.003300    0.005500    0.007500    0.011300  ...    0.000000   \n25%      0.080900    0.080425    0.097025    0.111275  ...    0.008425   \n50%      0.106950    0.112100    0.152250    0.182400  ...    0.013900   \n75%      0.154000    0.169600    0.233425    0.268700  ...    0.020825   \nmax      0.372900    0.459000    0.682800    0.710600  ...    0.100400   \n\n               51          52          53          54          55          56  \\\ncount  208.000000  208.000000  208.000000  208.000000  208.000000  208.000000   \nmean     0.013420    0.010709    0.010941    0.009290    0.008222    0.007820   \nstd      0.009634    0.007060    0.007301    0.007088    0.005736    0.005785   \nmin      0.000800    0.000500    0.001000    0.000600    0.000400    0.000300   \n25%      0.007275    0.005075    0.005375    0.004150    0.004400    0.003700   \n50%      0.011400    0.009550    0.009300    0.007500    0.006850    0.005950   \n75%      0.016725    0.014900    0.014500    0.012100    0.010575    0.010425   \nmax      0.070900    0.039000    0.035200    0.044700    0.039400    0.035500   \n\n               57          58          59  \ncount  208.000000  208.000000  208.000000  \nmean     0.007949    0.007941    0.006507  \nstd      0.006470    0.006181    0.005031  \nmin      0.000300    0.000100    0.000600  \n25%      0.003600    0.003675    0.003100  \n50%      0.005800    0.006400    0.005300  \n75%      0.010350    0.010325    0.008525  \nmax      0.044000    0.036400    0.043900  \n\n[8 rows x 60 columns]",
      "text/html": "<div>\n<style scoped>\n    .dataframe tbody tr th:only-of-type {\n        vertical-align: middle;\n    }\n\n    .dataframe tbody tr th {\n        vertical-align: top;\n    }\n\n    .dataframe thead th {\n        text-align: right;\n    }\n</style>\n<table border=\"1\" class=\"dataframe\">\n  <thead>\n    <tr style=\"text-align: right;\">\n      <th></th>\n      <th>0</th>\n      <th>1</th>\n      <th>2</th>\n      <th>3</th>\n      <th>4</th>\n      <th>5</th>\n      <th>6</th>\n      <th>7</th>\n      <th>8</th>\n      <th>9</th>\n      <th>...</th>\n      <th>50</th>\n      <th>51</th>\n      <th>52</th>\n      <th>53</th>\n      <th>54</th>\n      <th>55</th>\n      <th>56</th>\n      <th>57</th>\n      <th>58</th>\n      <th>59</th>\n    </tr>\n  </thead>\n  <tbody>\n    <tr>\n      <th>count</th>\n      <td>208.000000</td>\n      <td>208.000000</td>\n      <td>208.000000</td>\n      <td>208.000000</td>\n      <td>208.000000</td>\n      <td>208.000000</td>\n      <td>208.000000</td>\n      <td>208.000000</td>\n      <td>208.000000</td>\n      <td>208.000000</td>\n      <td>...</td>\n      <td>208.000000</td>\n      <td>208.000000</td>\n      <td>208.000000</td>\n      <td>208.000000</td>\n      <td>208.000000</td>\n      <td>208.000000</td>\n      <td>208.000000</td>\n      <td>208.000000</td>\n      <td>208.000000</td>\n      <td>208.000000</td>\n    </tr>\n    <tr>\n      <th>mean</th>\n      <td>0.029164</td>\n      <td>0.038437</td>\n      <td>0.043832</td>\n      <td>0.053892</td>\n      <td>0.075202</td>\n      <td>0.104570</td>\n      <td>0.121747</td>\n      <td>0.134799</td>\n      <td>0.178003</td>\n      <td>0.208259</td>\n      <td>...</td>\n      <td>0.016069</td>\n      <td>0.013420</td>\n      <td>0.010709</td>\n      <td>0.010941</td>\n      <td>0.009290</td>\n      <td>0.008222</td>\n      <td>0.007820</td>\n      <td>0.007949</td>\n      <td>0.007941</td>\n      <td>0.006507</td>\n    </tr>\n    <tr>\n      <th>std</th>\n      <td>0.022991</td>\n      <td>0.032960</td>\n      <td>0.038428</td>\n      <td>0.046528</td>\n      <td>0.055552</td>\n      <td>0.059105</td>\n      <td>0.061788</td>\n      <td>0.085152</td>\n      <td>0.118387</td>\n      <td>0.134416</td>\n      <td>...</td>\n      <td>0.012008</td>\n      <td>0.009634</td>\n      <td>0.007060</td>\n      <td>0.007301</td>\n      <td>0.007088</td>\n      <td>0.005736</td>\n      <td>0.005785</td>\n      <td>0.006470</td>\n      <td>0.006181</td>\n      <td>0.005031</td>\n    </tr>\n    <tr>\n      <th>min</th>\n      <td>0.001500</td>\n      <td>0.000600</td>\n      <td>0.001500</td>\n      <td>0.005800</td>\n      <td>0.006700</td>\n      <td>0.010200</td>\n      <td>0.003300</td>\n      <td>0.005500</td>\n      <td>0.007500</td>\n      <td>0.011300</td>\n      <td>...</td>\n      <td>0.000000</td>\n      <td>0.000800</td>\n      <td>0.000500</td>\n      <td>0.001000</td>\n      <td>0.000600</td>\n      <td>0.000400</td>\n      <td>0.000300</td>\n      <td>0.000300</td>\n      <td>0.000100</td>\n      <td>0.000600</td>\n    </tr>\n    <tr>\n      <th>25%</th>\n      <td>0.013350</td>\n      <td>0.016450</td>\n      <td>0.018950</td>\n      <td>0.024375</td>\n      <td>0.038050</td>\n      <td>0.067025</td>\n      <td>0.080900</td>\n      <td>0.080425</td>\n      <td>0.097025</td>\n      <td>0.111275</td>\n      <td>...</td>\n      <td>0.008425</td>\n      <td>0.007275</td>\n      <td>0.005075</td>\n      <td>0.005375</td>\n      <td>0.004150</td>\n      <td>0.004400</td>\n      <td>0.003700</td>\n      <td>0.003600</td>\n      <td>0.003675</td>\n      <td>0.003100</td>\n    </tr>\n    <tr>\n      <th>50%</th>\n      <td>0.022800</td>\n      <td>0.030800</td>\n      <td>0.034300</td>\n      <td>0.044050</td>\n      <td>0.062500</td>\n      <td>0.092150</td>\n      <td>0.106950</td>\n      <td>0.112100</td>\n      <td>0.152250</td>\n      <td>0.182400</td>\n      <td>...</td>\n      <td>0.013900</td>\n      <td>0.011400</td>\n      <td>0.009550</td>\n      <td>0.009300</td>\n      <td>0.007500</td>\n      <td>0.006850</td>\n      <td>0.005950</td>\n      <td>0.005800</td>\n      <td>0.006400</td>\n      <td>0.005300</td>\n    </tr>\n    <tr>\n      <th>75%</th>\n      <td>0.035550</td>\n      <td>0.047950</td>\n      <td>0.057950</td>\n      <td>0.064500</td>\n      <td>0.100275</td>\n      <td>0.134125</td>\n      <td>0.154000</td>\n      <td>0.169600</td>\n      <td>0.233425</td>\n      <td>0.268700</td>\n      <td>...</td>\n      <td>0.020825</td>\n      <td>0.016725</td>\n      <td>0.014900</td>\n      <td>0.014500</td>\n      <td>0.012100</td>\n      <td>0.010575</td>\n      <td>0.010425</td>\n      <td>0.010350</td>\n      <td>0.010325</td>\n      <td>0.008525</td>\n    </tr>\n    <tr>\n      <th>max</th>\n      <td>0.137100</td>\n      <td>0.233900</td>\n      <td>0.305900</td>\n      <td>0.426400</td>\n      <td>0.401000</td>\n      <td>0.382300</td>\n      <td>0.372900</td>\n      <td>0.459000</td>\n      <td>0.682800</td>\n      <td>0.710600</td>\n      <td>...</td>\n      <td>0.100400</td>\n      <td>0.070900</td>\n      <td>0.039000</td>\n      <td>0.035200</td>\n      <td>0.044700</td>\n      <td>0.039400</td>\n      <td>0.035500</td>\n      <td>0.044000</td>\n      <td>0.036400</td>\n      <td>0.043900</td>\n    </tr>\n  </tbody>\n</table>\n<p>8 rows × 60 columns</p>\n</div>"
     },
     "execution_count": 18,
     "metadata": {},
     "output_type": "execute_result"
    }
   ],
   "source": [
    "# Revela datos importantisimos sobre nuestro dataframe, como la desviacion estandar, los maximos, los minimos, los percentiles etc\n",
    "sonar_data.describe()"
   ],
   "metadata": {
    "collapsed": false,
    "ExecuteTime": {
     "end_time": "2024-02-23T17:07:50.370135800Z",
     "start_time": "2024-02-23T17:07:50.248137100Z"
    }
   },
   "id": "e32ed06f1dc4d2f0",
   "execution_count": 18
  },
  {
   "cell_type": "code",
   "outputs": [
    {
     "data": {
      "text/plain": "60\nM    111\nR     97\nName: count, dtype: int64"
     },
     "execution_count": 19,
     "metadata": {},
     "output_type": "execute_result"
    }
   ],
   "source": [
    "# Queremos extraer el numero de minas y el numero de rocas definidas en nuestro dataset, para ello vamos a hacer un count de la columna con index 60.\n",
    "# M --> Mine\n",
    "\n",
    "# R --> R\n",
    "sonar_data[60].value_counts()"
   ],
   "metadata": {
    "collapsed": false,
    "ExecuteTime": {
     "end_time": "2024-02-23T17:13:18.567359700Z",
     "start_time": "2024-02-23T17:13:18.532409200Z"
    }
   },
   "id": "2cb4772f023a1044",
   "execution_count": 19
  },
  {
   "cell_type": "code",
   "outputs": [
    {
     "data": {
      "text/plain": "          0         1         2         3         4         5         6   \\\n60                                                                         \nM   0.034989  0.045544  0.050720  0.064768  0.086715  0.111864  0.128359   \nR   0.022498  0.030303  0.035951  0.041447  0.062028  0.096224  0.114180   \n\n          7         8         9   ...        50        51        52        53  \\\n60                                ...                                           \nM   0.149832  0.213492  0.251022  ...  0.019352  0.016014  0.011643  0.012185   \nR   0.117596  0.137392  0.159325  ...  0.012311  0.010453  0.009640  0.009518   \n\n          54        55        56        57        58        59  \n60                                                              \nM   0.009923  0.008914  0.007825  0.009060  0.008695  0.006930  \nR   0.008567  0.007430  0.007814  0.006677  0.007078  0.006024  \n\n[2 rows x 60 columns]",
      "text/html": "<div>\n<style scoped>\n    .dataframe tbody tr th:only-of-type {\n        vertical-align: middle;\n    }\n\n    .dataframe tbody tr th {\n        vertical-align: top;\n    }\n\n    .dataframe thead th {\n        text-align: right;\n    }\n</style>\n<table border=\"1\" class=\"dataframe\">\n  <thead>\n    <tr style=\"text-align: right;\">\n      <th></th>\n      <th>0</th>\n      <th>1</th>\n      <th>2</th>\n      <th>3</th>\n      <th>4</th>\n      <th>5</th>\n      <th>6</th>\n      <th>7</th>\n      <th>8</th>\n      <th>9</th>\n      <th>...</th>\n      <th>50</th>\n      <th>51</th>\n      <th>52</th>\n      <th>53</th>\n      <th>54</th>\n      <th>55</th>\n      <th>56</th>\n      <th>57</th>\n      <th>58</th>\n      <th>59</th>\n    </tr>\n    <tr>\n      <th>60</th>\n      <th></th>\n      <th></th>\n      <th></th>\n      <th></th>\n      <th></th>\n      <th></th>\n      <th></th>\n      <th></th>\n      <th></th>\n      <th></th>\n      <th></th>\n      <th></th>\n      <th></th>\n      <th></th>\n      <th></th>\n      <th></th>\n      <th></th>\n      <th></th>\n      <th></th>\n      <th></th>\n      <th></th>\n    </tr>\n  </thead>\n  <tbody>\n    <tr>\n      <th>M</th>\n      <td>0.034989</td>\n      <td>0.045544</td>\n      <td>0.050720</td>\n      <td>0.064768</td>\n      <td>0.086715</td>\n      <td>0.111864</td>\n      <td>0.128359</td>\n      <td>0.149832</td>\n      <td>0.213492</td>\n      <td>0.251022</td>\n      <td>...</td>\n      <td>0.019352</td>\n      <td>0.016014</td>\n      <td>0.011643</td>\n      <td>0.012185</td>\n      <td>0.009923</td>\n      <td>0.008914</td>\n      <td>0.007825</td>\n      <td>0.009060</td>\n      <td>0.008695</td>\n      <td>0.006930</td>\n    </tr>\n    <tr>\n      <th>R</th>\n      <td>0.022498</td>\n      <td>0.030303</td>\n      <td>0.035951</td>\n      <td>0.041447</td>\n      <td>0.062028</td>\n      <td>0.096224</td>\n      <td>0.114180</td>\n      <td>0.117596</td>\n      <td>0.137392</td>\n      <td>0.159325</td>\n      <td>...</td>\n      <td>0.012311</td>\n      <td>0.010453</td>\n      <td>0.009640</td>\n      <td>0.009518</td>\n      <td>0.008567</td>\n      <td>0.007430</td>\n      <td>0.007814</td>\n      <td>0.006677</td>\n      <td>0.007078</td>\n      <td>0.006024</td>\n    </tr>\n  </tbody>\n</table>\n<p>2 rows × 60 columns</p>\n</div>"
     },
     "execution_count": 20,
     "metadata": {},
     "output_type": "execute_result"
    }
   ],
   "source": [
    "#Vamos a hacer una agrupacion mediante el significado para poder ver los datos\n",
    "sonar_data.groupby(60).mean()"
   ],
   "metadata": {
    "collapsed": false,
    "ExecuteTime": {
     "end_time": "2024-02-23T17:15:55.241845Z",
     "start_time": "2024-02-23T17:15:55.190849600Z"
    }
   },
   "id": "62879513f818f8bb",
   "execution_count": 20
  },
  {
   "cell_type": "code",
   "outputs": [],
   "source": [
    "# Vamos a eliminar el label, es decir, la ultima columna de nuestro dataset para preparar la ingesta y vamos a guardarlo en otra variable\n",
    "\n",
    "X = sonar_data.drop(columns=60, axis=1)\n",
    "Y = sonar_data[60]"
   ],
   "metadata": {
    "collapsed": false,
    "ExecuteTime": {
     "end_time": "2024-02-23T17:20:20.937981300Z",
     "start_time": "2024-02-23T17:20:20.923983800Z"
    }
   },
   "id": "3bb65c746b04e613",
   "execution_count": 22
  },
  {
   "cell_type": "code",
   "outputs": [],
   "source": [
    "print(X)\n",
    "print(Y)"
   ],
   "metadata": {
    "collapsed": false
   },
   "id": "40af87e3e394a32b",
   "execution_count": null
  },
  {
   "cell_type": "code",
   "outputs": [],
   "source": [
    "#Ahora vamos a separar nuestros datos en dos grupos, datos de entrenamiento y datos de prueba, esto es importante para que nuestro modelo sea entrenado con unos datos y probado con otros que no conozca, asi evitaremos \"falsos positivos\" o false fittings\n",
    "\n",
    "#Con la siguiente funcion vamos a splitear nuestro dataframe siguiendo los siguientes parametros\n",
    "# test_size=0.1 --> Aqui declaramos que queremos un 10% del dataset como datos reservados para pruebas.\n",
    "# stratify=Y --> Aqui vamos a indicarle que elemento vamos a usar para cortar nuestro dataset, en este caso, seran nuestros labels, M y R, esto provocara que se intenten distribuir de manera equitativa rocas y minas tanto en test data como en train data\n",
    "#random_state = Inicializa el valor del generador de numeros aleatorios en clave uno, es decir, si queremos reproducir la misma fase de entrenamiento, deberemos usar de nuevo la clave 1, si queremos usar otra, usaremos 2, 3, etc. Si querremos aleatorizar esta fase de manera no registrada, podemos inicializarlo con el valor None\n",
    "\n",
    "X_train, X_test, Y_train, Y_test = train_test_split(X, Y, test_size=0.1, stratify=Y, random_state=1)\n"
   ],
   "metadata": {
    "collapsed": false
   },
   "id": "7800f93405fc3c25"
  }
 ],
 "metadata": {
  "kernelspec": {
   "display_name": "Python 3",
   "language": "python",
   "name": "python3"
  },
  "language_info": {
   "codemirror_mode": {
    "name": "ipython",
    "version": 2
   },
   "file_extension": ".py",
   "mimetype": "text/x-python",
   "name": "python",
   "nbconvert_exporter": "python",
   "pygments_lexer": "ipython2",
   "version": "2.7.6"
  }
 },
 "nbformat": 4,
 "nbformat_minor": 5
}
